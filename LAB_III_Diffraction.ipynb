{
  "nbformat": 4,
  "nbformat_minor": 0,
  "metadata": {
    "colab": {
      "provenance": []
    },
    "kernelspec": {
      "name": "python3",
      "display_name": "Python 3"
    },
    "language_info": {
      "name": "python"
    }
  },
  "cells": [
    {
      "cell_type": "code",
      "execution_count": null,
      "metadata": {
        "id": "U_Le7KuxjVq6"
      },
      "outputs": [],
      "source": [
        "import matplotlib.pyplot as plt\n",
        "import numpy as np\n",
        "import math\n",
        "from scipy.optimize import curve_fit\n",
        "import scipy.stats as stats\n",
        "from scipy.stats import linregress\n",
        "from tabulate import tabulate\n",
        "from matplotlib import colors\n",
        "from matplotlib.ticker import PercentFormatter\n",
        "plt.rcParams['font.family'] = 'serif'\n",
        "plt.rcParams['font.serif'] = ['Times New Roman'] + plt.rcParams['font.serif']"
      ]
    },
    {
      "cell_type": "code",
      "source": [
        "\"\"\"\n",
        "USEFUL CODE:\n",
        "\n",
        "1. TO FIND ERROR IN SLOPE: \n",
        "\n",
        "slope, intercept, r_value, p_value, std_err = linregress(x, y)\n",
        "slope_error = std_err / np.sqrt(len(x))\n",
        "print(f\"Slope: {slope}\")\n",
        "print(f\"Slope error: {slope_error}\")\n",
        "\n",
        "2. PLOTTING ERRORBARS\n",
        "\n",
        "plt.errorbar(x,y, yerr= y_err, xerr= x_err, fmt='o', label = 'Data Point', markersize = 4)\n",
        "\n",
        "3. CHANGING FIGURE SIZE\n",
        "\n",
        "plt.figure(figsize=(7.5,5))\n",
        "\n",
        "4. CURVE FIT\n",
        "\n",
        "def function(R_th, a, b,c):\n",
        "    return a +b*np.log(R_th) + c*((np.log(R_th)))**3\n",
        "\n",
        "pars, cov = curve_fit(f=function, xdata= x, ydata= y) #, p0=[0, 0], bounds=(-np.inf, np.inf))\n",
        "\n",
        "#stdevs = np.sqrt(np.diag(cov))\n",
        "#res = y - steinhart(x, *pars)\n",
        "\n",
        "(a,b, c) = [*pars]\n",
        "\n",
        "plt.plot(x, function(R_th, a,b,c), label='Equation of curve: $'r' $')\n",
        "print(a,b,c)\n",
        "\n",
        "5. LATEX TABLES\n",
        "a. ROWS\n",
        "\n",
        "table_format = r\"\\begin{tabular}{|c|c|c|c|c|} \\hline\"\n",
        "\n",
        "# Add the first row of the table with the elements of arr1\n",
        "table_row1 = \" & \".join([str(x) for x in X])\n",
        "table_row1 = f\"{table_row1} \\\\\\\\ \\\\hline\"\n",
        "\n",
        "# Add the second row of the table with the elements of arr2\n",
        "table_row2 = \" & \".join([str(x) for x in Y])\n",
        "table_row2 = f\"{table_row2} \\\\\\\\ \\\\hline\"\n",
        "\n",
        "# Combine the table format and rows into a complete LaTeX table\n",
        "latex_table = f\"{table_format}\\n{table_row1}\\n{table_row2}\\n\\\\end{{tabular}}\"\n",
        "\n",
        "# Print the resulting LaTeX table\n",
        "print(latex_table)\n",
        "\n",
        "\n",
        "6. Gaussian function\n",
        "\n",
        "# Define parameters for the Gaussian distribution\n",
        "mu = 0\n",
        "sigma = 1\n",
        "\n",
        "d = np.array([])\n",
        "\n",
        "# Evaluating the probability density function (PDF) of the Gaussian distribution at each point\n",
        "y = stats.norm.pdf(d, mu, sigma)\n",
        "\n",
        "# Plotting the Gaussian distribution\n",
        "plt.scatter(d, y, s =4)\n",
        "plt.plot(d,y, color='r')\n",
        "plt.xlabel('Diameter of Central Maxima')\n",
        "plt.ylabel('Normalised Gaussian Distribution')\n",
        "plt.show()\n",
        "\n",
        "7. Histogram\n",
        "\n",
        "# Generate some random data with a Gaussian distribution\n",
        "data = np.random.normal(loc=0, scale=1, size=10000)\n",
        "\n",
        "# Create a histogram of the data\n",
        "N, bins, patches = plt.hist(data, bins=100)\n",
        "\n",
        "# Find the bin with the maximum frequency\n",
        "bin_index = np.argmax(N)\n",
        "\n",
        "# Find the bin edges and width\n",
        "bin_edges = bins[bin_index:bin_index+2]\n",
        "bin_width = bin_edges[1] - bin_edges[0]\n",
        "\n",
        "# Compute the center of the bin with the maximum frequency\n",
        "bin_center = bin_edges.mean()\n",
        "\n",
        "# Print the center and frequency of the bin with the maximum frequency\n",
        "print(\"Bin with maximum frequency: center={}, frequency={}\".format(bin_center, N[bin_index]))\n",
        "\n",
        "# Plot the histogram with the bin with maximum frequency highlighted\n",
        "plt.bar(bin_center, N[bin_index], width=bin_width, color='r', alpha=0.5)\n",
        "plt.show()\n",
        "\n",
        "\n",
        "\n",
        "\"\"\""
      ],
      "metadata": {
        "id": "e0TfX55Tja44",
        "colab": {
          "base_uri": "https://localhost:8080/",
          "height": 123
        },
        "outputId": "c5018ed7-5de8-44b6-9079-b6ba1405b486"
      },
      "execution_count": null,
      "outputs": [
        {
          "output_type": "execute_result",
          "data": {
            "text/plain": [
              "'\\nUSEFUL CODE:\\n\\n1. TO FIND ERROR IN SLOPE: \\n\\nslope, intercept, r_value, p_value, std_err = linregress(x, y)\\nslope_error = std_err / np.sqrt(len(x))\\nprint(f\"Slope: {slope}\")\\nprint(f\"Slope error: {slope_error}\")\\n\\n2. PLOTTING ERRORBARS\\n\\nplt.errorbar(x,y, yerr= y_err, xerr= x_err, fmt=\\'o\\', label = \\'Data Point\\', markersize = 4)\\n\\n3. CHANGING FIGURE SIZE\\n\\nplt.figure(figsize=(7.5,5))\\n\\n4. CURVE FIT\\n\\ndef function(R_th, a, b,c):\\n    return a +b*np.log(R_th) + c*((np.log(R_th)))**3\\n\\npars, cov = curve_fit(f=function, xdata= x, ydata= y) #, p0=[0, 0], bounds=(-np.inf, np.inf))\\n\\n#stdevs = np.sqrt(np.diag(cov))\\n#res = y - steinhart(x, *pars)\\n\\n(a,b, c) = [*pars]\\n\\nplt.plot(x, function(R_th, a,b,c), label=\\'Equation of curve: $\\'r\\' $\\')\\nprint(a,b,c)\\n\\n5. LATEX TABLES\\na. ROWS\\n\\ntable_format = r\"\\x08egin{tabular}{|c|c|c|c|c|} \\\\hline\"\\n\\n# Add the first row of the table with the elements of arr1\\ntable_row1 = \" & \".join([str(x) for x in X])\\ntable_row1 = f\"{table_row1} \\\\\\\\ \\\\hline\"\\n\\n# Add the second row of the table with the elements of arr2\\ntable_row2 = \" & \".join([str(x) for x in Y])\\ntable_row2 = f\"{table_row2} \\\\\\\\ \\\\hline\"\\n\\n# Combine the table format and rows into a complete LaTeX table\\nlatex_table = f\"{table_format}\\n{table_row1}\\n{table_row2}\\n\\\\end{{tabular}}\"\\n\\n# Print the resulting LaTeX table\\nprint(latex_table)\\n\\n\\n6. Gaussian function\\n\\n# Define parameters for the Gaussian distribution\\nmu = 0\\nsigma = 1\\n\\nd = np.array([])\\n\\n# Evaluating the probability density function (PDF) of the Gaussian distribution at each point\\ny = stats.norm.pdf(d, mu, sigma)\\n\\n# Plotting the Gaussian distribution\\nplt.scatter(d, y, s =4)\\nplt.plot(d,y, color=\\'r\\')\\nplt.xlabel(\\'Diameter of Central Maxima\\')\\nplt.ylabel(\\'Normalised Gaussian Distribution\\')\\nplt.show()\\n\\n\\n'"
            ],
            "application/vnd.google.colaboratory.intrinsic+json": {
              "type": "string"
            }
          },
          "metadata": {},
          "execution_count": 2
        }
      ]
    },
    {
      "cell_type": "markdown",
      "source": [
        "PART A: SIZE OF PARTICLES"
      ],
      "metadata": {
        "id": "R7-1vxqKl8IB"
      }
    },
    {
      "cell_type": "markdown",
      "source": [
        "[Collected Data for Part A](https://docs.google.com/spreadsheets/d/1dMBvnFUDCZFm6hxvXmKe0tgvItXmLHHY9tktePFip8o/edit#gid=0)"
      ],
      "metadata": {
        "id": "4Oi2XBOhHSYI"
      }
    },
    {
      "cell_type": "code",
      "source": [
        "# Creating histogram\n",
        "#D = np.loadtxt(\"../content/Diffraction.csv\", delimiter=\",\", unpack=True, skiprows=1, usecols=(5)) # in m\n",
        "D = np.array([0.9333333333,0.8,0.5,0.5666666667,0.8333333333,0.9333333333,0.9333333333,0.6333333333,1,1.033333333,1.433333333,1.266666667,1.133333333,0.9666666667,1.033333333,1.233333333,0.8666666667,0.7,0.5,1.066666667,0.8333333333,0.6333333333,1.1,0.7,0.7666666667,0.7333333333,0.9666666667,1.166666667,1.366666667,0.6333333333,1.2,1.166666667,0.8,1.5,1.1,1.033333333,1.066666667,1.566666667,1.3,0.6,1.466666667,1.4,1.233333333,1.6,1.366666667,1.266666667,1.233333333,1.4,1.166666667,1.266666667,1.333333333,1.433333333,1.266666667,0.8333333333,0.9666666667,1.066666667,0.8333333333,0.6,1.133333333,1.066666667,1.233333333,1.1,1.066666667,0.8333333333,0.6666666667,0.7333333333,0.9333333333,1.333333333,0.7666666667,0.6666666667,0.7333333333,0.9666666667,0.8666666667,0.7333333333,0.5666666667,1.2])\n",
        "d = np.round(D, decimals=2)\n",
        "print(len(d))\n",
        "fig, axs = plt.subplots(1, 1, tight_layout = True)\n",
        "N, bins, patches = axs.hist(d, bins = 19, density=True) #density=True normalises the histogram\n",
        "\n",
        "mean = np.mean(d)\n",
        "std = np.std(d)\n",
        "\n",
        "# Divide the data into bins and calculate the count or frequency of each bin\n",
        "counts, _ = np.histogram(d, bins=bins)\n",
        "\n",
        "# Calculate the standard error of the mean (SEM) for each bin\n",
        "sem = std / np.sqrt(counts)\n",
        "\n",
        "# Find the bin with the maximum frequency\n",
        "bin_index = np.argmax(N)\n",
        "\n",
        "# Find the bin edges and width\n",
        "bin_edges = bins[bin_index:bin_index+2]\n",
        "bin_width = bin_edges[1] - bin_edges[0]\n",
        "\n",
        "# Compute the center of the bin with the maximum frequency\n",
        "bin_center = bin_edges.mean()\n",
        "\n",
        "# Print the center and frequency of the bin with the maximum frequency\n",
        "print(\"Bin with maximum frequency: center={}, frequency={}\".format(bin_center, N[bin_index]))\n",
        "\n",
        "# Plot the histogram with the bin with maximum frequency highlighted\n",
        "plt.bar(bin_center, N[bin_index], width=bin_width, color='r', alpha=0.5)\n",
        "\n",
        "\n",
        "# Setting color\n",
        "fracs = ((N**(1/5)) / N.max())\n",
        "norm = colors.Normalize(fracs.min(), fracs.max()) \n",
        "for thisfrac, thispatch in zip(fracs, patches):\n",
        "    color = plt.cm.viridis(norm(thisfrac))\n",
        "    thispatch.set_facecolor(color) \n",
        "\n",
        "#Gaussian fit\n",
        "\n",
        "bin_centers = (bins[1:] + bins[:-1]) / 2\n",
        "\n",
        "# Define the Gaussian function\n",
        "def gauss(x, a, mu, sigma):\n",
        "    return a * stats.norm.pdf(x, loc=mu, scale=sigma)\n",
        "\n",
        "# Fit the Gaussian function to the histogram\n",
        "p0 = [1, np.mean(d), np.std(d)]\n",
        "popt, pcov = curve_fit(gauss, bin_centers, N, p0=p0)\n",
        "\n",
        "# Plot the histogram and the fitted Gaussian curve\n",
        "plt.plot(bin_centers, gauss(bin_centers, *popt), 'k-', label='Gaussian fit')\n",
        "plt.errorbar(bin_centers, N, yerr=sem, fmt='o', capsize=3, label='Error Bars')\n",
        "plt.legend()\n",
        "\n",
        "plt.xlabel('Diameter of Central Maxima (cm)')\n",
        "plt.ylabel('No. of particles')\n",
        "plt.show()\n",
        "\n",
        "print('Standard Deviation =',np.std(d))"
      ],
      "metadata": {
        "id": "eNqeGaHVnI6U",
        "colab": {
          "base_uri": "https://localhost:8080/",
          "height": 349
        },
        "outputId": "36d2769d-1d64-4bab-9d7b-70e143f3da76"
      },
      "execution_count": null,
      "outputs": [
        {
          "output_type": "stream",
          "name": "stdout",
          "text": [
            "76\n",
            "Bin with maximum frequency: center=1.05, frequency=1.8181818181818195\n"
          ]
        },
        {
          "output_type": "display_data",
          "data": {
            "text/plain": [
              "<Figure size 432x288 with 1 Axes>"
            ],
            "image/png": "[encoded data removed]"
          },
          "metadata": {
            "needs_background": "light"
          }
        },
        {
          "output_type": "stream",
          "name": "stdout",
          "text": [
            "Standard Deviation = 0.2775342495896513\n"
          ]
        }
      ]
    },
    {
      "cell_type": "code",
      "source": [
        "p = (bin_center)/2 #radius of the central maxima as found from the gaussian curve in cm \n",
        "b = 280.8 #distance of the screen from the glass slide in cm\n",
        "l = 650e-9 # wavelength of laser source\n",
        "\n",
        "tantheta = p/b\n",
        "theta = math.atan(tantheta) #math.degrees(math.atan(tantheta))\n",
        "sintheta = math.sin(theta)\n",
        "a = 1.22*l/sintheta # diameter of particle of carrom powder\n",
        "print(\"The diameter of a particle of carrom powder is {:.2e}\".format(a), \"m\")\n",
        "print(\"The diameter of a particle of carrom powder is \",a, \"m\")\n",
        "print(p/100)"
      ],
      "metadata": {
        "id": "D0jVSMM_l-GB",
        "colab": {
          "base_uri": "https://localhost:8080/"
        },
        "outputId": "1f4e7636-dcdb-4d74-9a4d-f0b8a47800b9"
      },
      "execution_count": null,
      "outputs": [
        {
          "output_type": "stream",
          "name": "stdout",
          "text": [
            "The diameter of a particle of carrom powder is 4.24e-04 m\n",
            "The diameter of a particle of carrom powder is  0.00042414245560451084 m\n",
            "0.00525\n"
          ]
        }
      ]
    },
    {
      "cell_type": "markdown",
      "source": [
        "PART B: SURFACE TENSION OF WATER"
      ],
      "metadata": {
        "id": "x-usE1iFl-Tr"
      }
    },
    {
      "cell_type": "code",
      "source": [
        "L = (167.6 + 135.1 + 12.7)/100 #m\n",
        "H = (94.7-76.3)/100  #height of the central maxima - height of the water level  #m\n",
        "\n",
        "# w_ = 2*np.pi*np.array([70,75,80,85,90,95,100,105]) #frequency in Hz\n",
        "# x1_ = np.array([1.65, 1.7, 1.8, 1.85, 1.85,2, 2.05, 2 ])/200  #distance between centre of central maxima and first maxima in cm\n",
        "\n",
        "w_ = 2*np.pi*np.array([75,80,85,95,100]) #frequency in Hz\n",
        "x1_ = np.array([1.7, 1.8, 1.85,2, 2.05])/200  #distance between centre of central maxima and first maxima in m\n",
        "\n",
        "theta = H/L\n",
        "gamma = np.arctan((H+x1_)/L) - theta\n",
        "k = 2*np.pi*np.sin(theta)*np.sin(gamma)/(650e-9)\n",
        "w_err = [0.1/a for a in w_]\n",
        "# k_err = [a*np.sqrt((0.001/a)**2 + (0.1/H)**2 + (0.1/L)**2) for a in x1_]\n",
        "k_err = x1_*np.sqrt((0.001/x1_)**2 + (0.1/H)**2 + (0.1/L)**2)\n",
        "\n",
        "m,c = np.polyfit(np.log(k), np.log(w_), 1)\n",
        "plt.scatter(np.log(k),np.log(w_))\n",
        "plt.plot(np.log(k), m*np.log(k) + c, 'r', label = 'Line of best fit: ln $'r'\\omega$ = 1.5 ln k -4.87')\n",
        "plt.xlabel('$'r'ln k$')\n",
        "plt.ylabel('$'r'ln \\omega$')\n",
        "plt.errorbar(np.log(k),np.log(w_), yerr=w_err, xerr=k_err, fmt='o', label = 'Data Point', markersize = 4)\n",
        "plt.legend()\n",
        "plt.show()\n",
        "\n",
        "slope, intercept, r_value, p_value, std_err = linregress(np.log(k),np.log(w_))\n",
        "slope_error = std_err / np.sqrt(len(np.log(k)))\n",
        "#intercept_error = slope_error * np.sqrt(np.mean(np.log(k)**2))\n",
        "print(f\"Slope: {slope}\")\n",
        "print(f\"Slope error: {slope_error}\")\n",
        "print(f\"Intercept: {intercept}\")\n",
        "print(f\"Intercept error: {intercept_error}\")\n",
        "st = 1000*np.exp(2*c)\n",
        "print('st =', st)\n",
        "print(abs(0.07275-st)*100/0.07275)\n",
        "print(H,L)\n",
        "print(linregress(np.log(k),np.log(w_)))\n",
        "print('x1=', x1_)\n",
        "print('gamma=', gamma)\n",
        "print('k=', k)"
      ],
      "metadata": {
        "colab": {
          "base_uri": "https://localhost:8080/",
          "height": 491
        },
        "id": "XwFApTkm28YG",
        "outputId": "789de2ee-7624-4555-98c5-a4992666bff2"
      },
      "execution_count": null,
      "outputs": [
        {
          "output_type": "display_data",
          "data": {
            "text/plain": [
              "<Figure size 432x288 with 1 Axes>"
            ],
            "image/png": "[encoded data removed]"
          },
          "metadata": {
            "needs_background": "light"
          }
        },
        {
          "output_type": "stream",
          "name": "stdout",
          "text": [
            "Slope: 1.509449369658039\n",
            "Slope error: 0.033011223237793846\n",
            "Intercept: -4.86858340054153\n",
            "Intercept error: 0.24422358360656096\n",
            "st = 0.059047591649865935\n",
            "18.834925567194585\n",
            "0.18400000000000005 3.154\n",
            "LinregressResult(slope=1.509449369658039, intercept=-4.86858340054153, rvalue=0.9964320542780661, pvalue=0.0002556987757156784, stderr=0.07381533918012775, intercept_stderr=0.5461005346528737)\n",
            "x1= [0.0085  0.009   0.00925 0.01    0.01025]\n",
            "gamma= [0.00261937 0.00277731 0.00285628 0.00309318 0.00317215]\n",
            "k= [1476.29545253 1565.31062353 1609.81754959 1743.3356801  1787.84083829]\n"
          ]
        }
      ]
    },
    {
      "cell_type": "markdown",
      "source": [
        "USELESS DATA"
      ],
      "metadata": {
        "id": "C8mEJzLr29QY"
      }
    },
    {
      "cell_type": "code",
      "source": [
        "#TRIAL 1\n",
        "\n",
        "#H = 10 #height of the center of the pattern from the water plate\n",
        "#L = 174.7 + 135.1 + 6.7  #distance from the water plate to the screen #cm \n",
        "\n",
        "L_ = (167.6 + 135.1 + np.mean([12.7,12.7,12.8]))/100 #cm\n",
        "H_ = (94.7 -76.2)/100 #height of the water level(76.2) + height of the central maxima #cm\n",
        "\n",
        "#w = np.array([70,75,80,85,90,95,100,105]) #frequency in Hz\n",
        "#x1 = np.array([1.65, 1.7, 1.8, 1.85, 1.85,2, 2.05, 2 ])/200  #distance between centre of central maxima and first maxima in cm\n",
        "\n",
        "w = 2*np.pi*np.array([70,75,80,85,95,100]) #frequency in Hz\n",
        "x1 = np.array([1.65, 1.7, 1.8, 1.85,2, 2.05])/2  #distance between centre of central maxima and first maxima in cm\n",
        "\n",
        "#theta = math.degrees(math.atan(H_/L_)) \n",
        "#gamma = [math.degrees(math.atan((H_+ i)/L_)) - theta for i in x1]\n",
        "\n",
        "theta = math.atan(H_/L_)\n",
        "gamma = [math.atan((H_+ i)/L_) - theta for i in x1]\n",
        "print('theta=', theta)\n",
        "print('gamma=', gamma)\n",
        "\n",
        "k = 2*np.pi*np.sin(gamma)*np.sin(theta)/650e-9\n",
        "print(k)\n",
        "W = np.log(w)\n",
        "m,c = np.polyfit(np.log(k), W, 1)\n",
        "W2 = [m*i + c for i in np.log(k)]\n",
        "s =1000*np.exp(2*c)\n",
        "plt.scatter(np.log(k),W)\n",
        "plt.plot(np.log(k),W2, 'r')\n",
        "plt.show()\n",
        "print(m,c)\n",
        "print('surface tension=',s)\n",
        "print('percentage error=' , 100*(0.07275 -s)/0.07275, '%')\n"
      ],
      "metadata": {
        "id": "7nIFhEt4n_jq",
        "colab": {
          "base_uri": "https://localhost:8080/",
          "height": 455
        },
        "outputId": "396e1dd2-ebc9-4f0f-fe2f-8a4bd8275b0c"
      },
      "execution_count": null,
      "outputs": [
        {
          "output_type": "stream",
          "name": "stdout",
          "text": [
            "theta= 0.05858236862704309\n",
            "gamma= [0.2512969461376896, 0.2584689125568579, 0.272711569400296, 0.27978130458987377, 0.3007787912181737, 0.3077060019001459]\n",
            "[140731.58902757 144659.48373111 152437.54994195 156287.02164787\n",
            " 167673.35977995 171413.81683971]\n"
          ]
        },
        {
          "output_type": "display_data",
          "data": {
            "text/plain": [
              "<Figure size 432x288 with 1 Axes>"
            ],
            "image/png": "[encoded data removed]"
          },
          "metadata": {
            "needs_background": "light"
          }
        },
        {
          "output_type": "stream",
          "name": "stdout",
          "text": [
            "1.7433202833883885 -14.573427485697001\n",
            "surface tension= 2.1962497298819578e-10\n",
            "percentage error= 99.99999969811002 %\n",
            "x1= [0.825 0.85  0.9   0.925 1.    1.025]\n",
            "gamma= [0.2512969461376896, 0.2584689125568579, 0.272711569400296, 0.27978130458987377, 0.3007787912181737, 0.3077060019001459]\n",
            "k= [140731.58902757 144659.48373111 152437.54994195 156287.02164787\n",
            " 167673.35977995 171413.81683971]\n"
          ]
        }
      ]
    },
    {
      "cell_type": "code",
      "source": [
        "#TRIAL 2\n",
        "\n",
        "L_ = (306.5+11.1-6.5)/100  #m\n",
        "H_ = (95- 76.2)/100 #height of the water level(76.2) + height of the central maxima #m\n",
        "\n",
        "w = 2*np.pi*np.array([80,90,100,110,120]) #frequency in Hz\n",
        "x1 = np.array([1.7, 1.9, 2, 2.1, 2.2])/200  #distance between centre of central maxima and first maxima in m\n",
        "\n",
        "#theta = math.degrees(math.atan(H_/L_)) \n",
        "#gamma = [math.degrees(math.atan((H_+ i)/L_)) - theta for i in x1]\n",
        "\n",
        "theta = math.atan(H_/L_)\n",
        "gamma = [math.atan((H_+ i)/L_) - theta for i in x1]\n",
        "print('theta=', theta)\n",
        "print('gamma=', gamma)\n",
        "\n",
        "k = 2*np.pi*np.sin(gamma)*np.sin(theta)/650e-9\n",
        "print('k=', k)\n",
        "W = np.log(w)\n",
        "m,c = np.polyfit(np.log(k), W, 1)\n",
        "W2 = [m*i + c for i in np.log(k)]\n",
        "s =1000*np.exp(2*c)\n",
        "plt.scatter(np.log(k),W)\n",
        "plt.plot(np.log(k),W2, 'r')\n",
        "plt.show()\n",
        "print(m,c)\n",
        "print('surface tension=',s)\n",
        "print('percentage error=' , 100*(0.07275 -s)/0.07275, '%')"
      ],
      "metadata": {
        "colab": {
          "base_uri": "https://localhost:8080/",
          "height": 368
        },
        "outputId": "5b31871e-bcca-4492-82d8-7b77540f8c5f",
        "id": "7tGWz8B-wFLP"
      },
      "execution_count": null,
      "outputs": [
        {
          "output_type": "stream",
          "name": "stdout",
          "text": [
            "theta= 0.0603573286475183\n",
            "gamma= [0.0027218444522086396, 0.0030420007096371646, 0.0032020739622366026, 0.0033621439532873706, 0.0035222106746866724]\n",
            "k= [1587.06811468 1773.74605016 1867.08210774 1960.41621572 2053.748367  ]\n"
          ]
        },
        {
          "output_type": "display_data",
          "data": {
            "text/plain": [
              "<Figure size 432x288 with 1 Axes>"
            ],
            "image/png": "[encoded data removed]"
          },
          "metadata": {
            "needs_background": "light"
          }
        },
        {
          "output_type": "stream",
          "name": "stdout",
          "text": [
            "1.5934775609312142 -5.547197057005865\n",
            "surface tension= 0.015197279688178045\n",
            "percentage error= 79.11026846985835 %\n"
          ]
        }
      ]
    },
    {
      "cell_type": "markdown",
      "source": [
        "expected value of surface tension = 0.072"
      ],
      "metadata": {
        "id": "_t3fzBfIHeUq"
      }
    },
    {
      "cell_type": "markdown",
      "source": [
        "TEST AREA"
      ],
      "metadata": {
        "id": "e-dnr2NPD2zS"
      }
    },
    {
      "cell_type": "code",
      "source": [],
      "metadata": {
        "id": "W-4riZJekbG5"
      },
      "execution_count": null,
      "outputs": []
    }
  ]
}